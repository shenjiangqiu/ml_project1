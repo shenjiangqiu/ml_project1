{
 "nbformat": 4,
 "nbformat_minor": 2,
 "metadata": {
  "language_info": {
   "name": "python",
   "codemirror_mode": {
    "name": "ipython",
    "version": 3
   },
   "version": "3.6.9-final"
  },
  "orig_nbformat": 2,
  "file_extension": ".py",
  "mimetype": "text/x-python",
  "name": "python",
  "npconvert_exporter": "python",
  "pygments_lexer": "ipython3",
  "version": 3,
  "kernelspec": {
   "name": "python36964bitb60bbb78f313426aaff905d05565e3d2",
   "display_name": "Python 3.6.9 64-bit"
  }
 },
 "cells": [
  {
   "cell_type": "code",
   "execution_count": 21,
   "metadata": {},
   "outputs": [],
   "source": [
    "import numpy as np\n",
    "\n",
    "#settings for the model\n",
    "isPoly=False\n",
    "isLeanear=True\n",
    "PolyDegree=2\n",
    "usingRegularizer=True\n",
    "Lambda=0.01\n",
    "W=None # current weight\n",
    "def my_regression(trainX,testX,noutputs):\n",
    "    ## coding here\n",
    "    print(trainX.shape)\n",
    "    print(testX.shape)\n",
    "    print(noutputs)\n",
    "    phi=None\n",
    "    T=trainX[:,trainX.shape[1]-noutputs:]\n",
    "    if isLeanear:\n",
    "        print(\"Using leanear model\")\n",
    "        phi=trainX[:,0:trainX.shape[1]-noutputs]\n",
    "    \n",
    "        ones=np.ones((trainX.shape[0],1))\n",
    "        phi=np.append(ones,phi,axis=1)\n",
    "        print(\"phi=\")\n",
    "        print(phi)\n",
    "    elif isPoly:\n",
    "        print(\"using poly\")\n",
    "        phi=trainX[:,0:trainX.shape[1]-noutputs]\n",
    "        for i in range(2,PolyDegree+1): \n",
    "            phi=np.append(phi,phi**i,axis=1)\n",
    "        \n",
    "        print(\"phi:\\n\",phi)\n",
    "        ones=np.ones((trainX.shape[0],1))\n",
    "        phi=np.append(ones,phi,axis=1)\n",
    "\n",
    "    if usingRegularizer==True:\n",
    "        print(\"using regularizer\")\n",
    "        W=np.dot(np.dot(np.linalg.pinv( Lambda * np.eye(phi.shape[1]) + np.dot(phi.T,phi)),phi.T),T)\n",
    "    else:\n",
    "        print(\"not using regularizer\")\n",
    "        W=np.dot(np.dot(np.linalg.pinv(np.dot(phi.T,phi)),phi.T),T)\n",
    "    print(\"T=\")\n",
    "    print(T)\n",
    "    print(\"W=\")\n",
    "    print(W)\n",
    "    outputs=np.dot(phi,W)\n",
    "    print(\"outputs=\")\n",
    "    print(outputs)\n",
    "\n",
    "    return np.dot(np.append(np.ones((testX.shape[0],1)),testX,axis=1),W)\n",
    "\n",
    "    \n",
    "\n",
    "    \n",
    "\n",
    "    pass\n",
    "\n",
    "\n",
    "\n",
    "\n",
    "##main:\n"
   ]
  },
  {
   "cell_type": "code",
   "execution_count": 25,
   "metadata": {},
   "outputs": [
    {
     "name": "stdout",
     "output_type": "stream",
     "text": "(4, 3)\n(3, 2)\n1\nusing poly\nphi:\n [[            1             2             1             4             1\n              8             1            64]\n [            2             3             4             9             8\n             27            64           729]\n [            3             4             9            16            27\n             64           729          4096]\n [            9           100            81         10000           729\n        1000000        531441 1000000000000]]\nusing regularizer\nT=\n[[  4]\n [  7]\n [ 10]\n [118]]\nW=\n[[1.18000001e-22]\n [1.06198961e-21]\n [1.18000000e-20]\n [9.55800001e-21]\n [1.18000000e-18]\n [8.60220000e-20]\n [1.18000000e-16]\n [6.27100380e-17]\n [1.18000000e-10]]\noutputs=\n[[7.55200101e-09]\n [8.60220072e-08]\n [4.83328053e-07]\n [1.18000000e+02]]\n"
    },
    {
     "ename": "ValueError",
     "evalue": "shapes (3,3) and (9,1) not aligned: 3 (dim 1) != 9 (dim 0)",
     "output_type": "error",
     "traceback": [
      "\u001b[0;31m---------------------------------------------------------------------------\u001b[0m",
      "\u001b[0;31mValueError\u001b[0m                                Traceback (most recent call last)",
      "\u001b[0;32m<ipython-input-25-6a09c09f7eba>\u001b[0m in \u001b[0;36m<module>\u001b[0;34m\u001b[0m\n\u001b[1;32m      5\u001b[0m \u001b[0misPoly\u001b[0m\u001b[0;34m=\u001b[0m\u001b[0;32mTrue\u001b[0m\u001b[0;34m\u001b[0m\u001b[0;34m\u001b[0m\u001b[0m\n\u001b[1;32m      6\u001b[0m \u001b[0mPolyDegree\u001b[0m\u001b[0;34m=\u001b[0m\u001b[0;36m3\u001b[0m\u001b[0;34m\u001b[0m\u001b[0;34m\u001b[0m\u001b[0m\n\u001b[0;32m----> 7\u001b[0;31m \u001b[0mtestOut\u001b[0m\u001b[0;34m=\u001b[0m\u001b[0mmy_regression\u001b[0m\u001b[0;34m(\u001b[0m\u001b[0mtrainX\u001b[0m\u001b[0;34m,\u001b[0m\u001b[0mtestX\u001b[0m\u001b[0;34m,\u001b[0m\u001b[0mnoutputs\u001b[0m\u001b[0;34m)\u001b[0m\u001b[0;34m\u001b[0m\u001b[0;34m\u001b[0m\u001b[0m\n\u001b[0m\u001b[1;32m      8\u001b[0m \u001b[0mprint\u001b[0m\u001b[0;34m(\u001b[0m\u001b[0mtestOut\u001b[0m\u001b[0;34m)\u001b[0m\u001b[0;34m\u001b[0m\u001b[0;34m\u001b[0m\u001b[0m\n\u001b[1;32m      9\u001b[0m \u001b[0;34m\u001b[0m\u001b[0m\n",
      "\u001b[0;32m<ipython-input-21-5aaec9eab5ba>\u001b[0m in \u001b[0;36mmy_regression\u001b[0;34m(trainX, testX, noutputs)\u001b[0m\n\u001b[1;32m     47\u001b[0m     \u001b[0mprint\u001b[0m\u001b[0;34m(\u001b[0m\u001b[0moutputs\u001b[0m\u001b[0;34m)\u001b[0m\u001b[0;34m\u001b[0m\u001b[0;34m\u001b[0m\u001b[0m\n\u001b[1;32m     48\u001b[0m \u001b[0;34m\u001b[0m\u001b[0m\n\u001b[0;32m---> 49\u001b[0;31m     \u001b[0;32mreturn\u001b[0m \u001b[0mnp\u001b[0m\u001b[0;34m.\u001b[0m\u001b[0mdot\u001b[0m\u001b[0;34m(\u001b[0m\u001b[0mnp\u001b[0m\u001b[0;34m.\u001b[0m\u001b[0mappend\u001b[0m\u001b[0;34m(\u001b[0m\u001b[0mnp\u001b[0m\u001b[0;34m.\u001b[0m\u001b[0mones\u001b[0m\u001b[0;34m(\u001b[0m\u001b[0;34m(\u001b[0m\u001b[0mtestX\u001b[0m\u001b[0;34m.\u001b[0m\u001b[0mshape\u001b[0m\u001b[0;34m[\u001b[0m\u001b[0;36m0\u001b[0m\u001b[0;34m]\u001b[0m\u001b[0;34m,\u001b[0m\u001b[0;36m1\u001b[0m\u001b[0;34m)\u001b[0m\u001b[0;34m)\u001b[0m\u001b[0;34m,\u001b[0m\u001b[0mtestX\u001b[0m\u001b[0;34m,\u001b[0m\u001b[0maxis\u001b[0m\u001b[0;34m=\u001b[0m\u001b[0;36m1\u001b[0m\u001b[0;34m)\u001b[0m\u001b[0;34m,\u001b[0m\u001b[0mW\u001b[0m\u001b[0;34m)\u001b[0m\u001b[0;34m\u001b[0m\u001b[0;34m\u001b[0m\u001b[0m\n\u001b[0m\u001b[1;32m     50\u001b[0m \u001b[0;34m\u001b[0m\u001b[0m\n\u001b[1;32m     51\u001b[0m \u001b[0;34m\u001b[0m\u001b[0m\n",
      "\u001b[0;32m<__array_function__ internals>\u001b[0m in \u001b[0;36mdot\u001b[0;34m(*args, **kwargs)\u001b[0m\n",
      "\u001b[0;31mValueError\u001b[0m: shapes (3,3) and (9,1) not aligned: 3 (dim 1) != 9 (dim 0)"
     ]
    }
   ],
   "source": [
    "\n",
    "\n",
    "trainX=np.array([[1,2,4],[2,3,7],[3,4,10],[9,100,118]])\n",
    "testX=np.array([[1,1],[2,2],[3,3]])\n",
    "noutputs=1\n",
    "isLeanear=False\n",
    "isPoly=True\n",
    "PolyDegree=3\n",
    "testOut=my_regression(trainX,testX,noutputs)\n",
    "print(testOut)\n",
    "\n",
    "   \n"
   ]
  },
  {
   "cell_type": "code",
   "execution_count": 18,
   "metadata": {},
   "outputs": [
    {
     "name": "stdout",
     "output_type": "stream",
     "text": "(1502, 6)\n(1, 6)\n[['6300' '15.6' '0.1016' '39.6' '0.0528487' '104.204']]\n(1502, 6)\n(1, 5)\n1\nUsing leanear model\nphi=\n[['1.0' '800' '0' '0.3048' '71.3' '0.00266337']\n ['1.0' '1000' '0' '0.3048' '71.3' '0.00266337']\n ['1.0' '1250' '0' '0.3048' '71.3' '0.00266337']\n ...\n ['1.0' '3150' '15.6' '0.1016' '39.6' '0.0528487']\n ['1.0' '4000' '15.6' '0.1016' '39.6' '0.0528487']\n ['1.0' '5000' '15.6' '0.1016' '39.6' '0.0528487']]\nusing regularizer\n"
    },
    {
     "ename": "ValueError",
     "evalue": "data type must provide an itemsize",
     "output_type": "error",
     "traceback": [
      "\u001b[0;31m---------------------------------------------------------------------------\u001b[0m",
      "\u001b[0;31mValueError\u001b[0m                                Traceback (most recent call last)",
      "\u001b[0;32m<ipython-input-18-064ad47547be>\u001b[0m in \u001b[0;36m<module>\u001b[0;34m\u001b[0m\n\u001b[1;32m     10\u001b[0m \u001b[0mprint\u001b[0m\u001b[0;34m(\u001b[0m\u001b[0mtestX\u001b[0m\u001b[0;34m.\u001b[0m\u001b[0mshape\u001b[0m\u001b[0;34m)\u001b[0m\u001b[0;34m\u001b[0m\u001b[0;34m\u001b[0m\u001b[0m\n\u001b[1;32m     11\u001b[0m \u001b[0mprint\u001b[0m\u001b[0;34m(\u001b[0m\u001b[0mtestX\u001b[0m\u001b[0;34m)\u001b[0m\u001b[0;34m\u001b[0m\u001b[0;34m\u001b[0m\u001b[0m\n\u001b[0;32m---> 12\u001b[0;31m \u001b[0mtestOut\u001b[0m\u001b[0;34m=\u001b[0m\u001b[0mmy_regression\u001b[0m\u001b[0;34m(\u001b[0m\u001b[0mtrainX\u001b[0m\u001b[0;34m,\u001b[0m\u001b[0mtestX\u001b[0m\u001b[0;34m[\u001b[0m\u001b[0;34m:\u001b[0m\u001b[0;34m,\u001b[0m\u001b[0;36m0\u001b[0m\u001b[0;34m:\u001b[0m\u001b[0;34m-\u001b[0m\u001b[0;36m1\u001b[0m\u001b[0;34m]\u001b[0m\u001b[0;34m,\u001b[0m\u001b[0;36m1\u001b[0m\u001b[0;34m)\u001b[0m\u001b[0;34m\u001b[0m\u001b[0;34m\u001b[0m\u001b[0m\n\u001b[0m\u001b[1;32m     13\u001b[0m \u001b[0mprint\u001b[0m\u001b[0;34m(\u001b[0m\u001b[0mtestOut\u001b[0m\u001b[0;34m)\u001b[0m\u001b[0;34m\u001b[0m\u001b[0;34m\u001b[0m\u001b[0m\n\u001b[1;32m     14\u001b[0m \u001b[0;32mpass\u001b[0m\u001b[0;34m\u001b[0m\u001b[0;34m\u001b[0m\u001b[0m\n",
      "\u001b[0;32m<ipython-input-13-7e83f64ac7a7>\u001b[0m in \u001b[0;36mmy_regression\u001b[0;34m(trainX, testX, noutputs)\u001b[0m\n\u001b[1;32m     24\u001b[0m         \u001b[0;32mif\u001b[0m \u001b[0musingRegularizer\u001b[0m\u001b[0;34m==\u001b[0m\u001b[0;32mTrue\u001b[0m\u001b[0;34m:\u001b[0m\u001b[0;34m\u001b[0m\u001b[0;34m\u001b[0m\u001b[0m\n\u001b[1;32m     25\u001b[0m             \u001b[0mprint\u001b[0m\u001b[0;34m(\u001b[0m\u001b[0;34m\"using regularizer\"\u001b[0m\u001b[0;34m)\u001b[0m\u001b[0;34m\u001b[0m\u001b[0;34m\u001b[0m\u001b[0m\n\u001b[0;32m---> 26\u001b[0;31m             \u001b[0mW\u001b[0m\u001b[0;34m=\u001b[0m\u001b[0mnp\u001b[0m\u001b[0;34m.\u001b[0m\u001b[0mdot\u001b[0m\u001b[0;34m(\u001b[0m\u001b[0mnp\u001b[0m\u001b[0;34m.\u001b[0m\u001b[0mdot\u001b[0m\u001b[0;34m(\u001b[0m\u001b[0mnp\u001b[0m\u001b[0;34m.\u001b[0m\u001b[0mlinalg\u001b[0m\u001b[0;34m.\u001b[0m\u001b[0mpinv\u001b[0m\u001b[0;34m(\u001b[0m \u001b[0mLambda\u001b[0m \u001b[0;34m*\u001b[0m \u001b[0mnp\u001b[0m\u001b[0;34m.\u001b[0m\u001b[0meye\u001b[0m\u001b[0;34m(\u001b[0m\u001b[0mphi\u001b[0m\u001b[0;34m.\u001b[0m\u001b[0mshape\u001b[0m\u001b[0;34m[\u001b[0m\u001b[0;36m1\u001b[0m\u001b[0;34m]\u001b[0m\u001b[0;34m)\u001b[0m \u001b[0;34m+\u001b[0m \u001b[0mnp\u001b[0m\u001b[0;34m.\u001b[0m\u001b[0mdot\u001b[0m\u001b[0;34m(\u001b[0m\u001b[0mphi\u001b[0m\u001b[0;34m.\u001b[0m\u001b[0mT\u001b[0m\u001b[0;34m,\u001b[0m\u001b[0mphi\u001b[0m\u001b[0;34m)\u001b[0m\u001b[0;34m)\u001b[0m\u001b[0;34m,\u001b[0m\u001b[0mphi\u001b[0m\u001b[0;34m.\u001b[0m\u001b[0mT\u001b[0m\u001b[0;34m)\u001b[0m\u001b[0;34m,\u001b[0m\u001b[0mT\u001b[0m\u001b[0;34m)\u001b[0m\u001b[0;34m\u001b[0m\u001b[0;34m\u001b[0m\u001b[0m\n\u001b[0m\u001b[1;32m     27\u001b[0m         \u001b[0;32melse\u001b[0m\u001b[0;34m:\u001b[0m\u001b[0;34m\u001b[0m\u001b[0;34m\u001b[0m\u001b[0m\n\u001b[1;32m     28\u001b[0m             \u001b[0mprint\u001b[0m\u001b[0;34m(\u001b[0m\u001b[0;34m\"not using regularizer\"\u001b[0m\u001b[0;34m)\u001b[0m\u001b[0;34m\u001b[0m\u001b[0;34m\u001b[0m\u001b[0m\n",
      "\u001b[0;32m<__array_function__ internals>\u001b[0m in \u001b[0;36mdot\u001b[0;34m(*args, **kwargs)\u001b[0m\n",
      "\u001b[0;31mValueError\u001b[0m: data type must provide an itemsize"
     ]
    }
   ],
   "source": [
    "data=\"./airfoil_self_noise.dat\"\n",
    "inputs=[]\n",
    "with open(data) as f:\n",
    "    for line in iter(f.readline,''):\n",
    "        inputs.append(line.split())\n",
    "inputs=np.array(inputs)\n",
    "trainX=inputs[0:-1]\n",
    "testX=inputs[-1:]\n",
    "print(trainX.shape)\n",
    "print(testX.shape)\n",
    "print(testX)\n",
    "testOut=my_regression(trainX,testX[:,0:-1],1)\n",
    "print(testOut)\n",
    "pass"
   ]
  },
  {
   "cell_type": "code",
   "execution_count": null,
   "metadata": {},
   "outputs": [],
   "source": []
  }
 ]
}