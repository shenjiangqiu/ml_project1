{
 "nbformat": 4,
 "nbformat_minor": 2,
 "metadata": {
  "language_info": {
   "name": "python",
   "codemirror_mode": {
    "name": "ipython",
    "version": 3
   },
   "version": "3.6.9-final"
  },
  "orig_nbformat": 2,
  "file_extension": ".py",
  "mimetype": "text/x-python",
  "name": "python",
  "npconvert_exporter": "python",
  "pygments_lexer": "ipython3",
  "version": 3,
  "kernelspec": {
   "name": "python36964bitb60bbb78f313426aaff905d05565e3d2",
   "display_name": "Python 3.6.9 64-bit"
  }
 },
 "cells": [
  {
   "cell_type": "code",
   "execution_count": 36,
   "metadata": {},
   "outputs": [
    {
     "name": "stdout",
     "output_type": "stream",
     "text": "[[  1.   1.   2.]\n [  1.   2.   3.]\n [  1.   3.   4.]\n [  1.   9. 100.]]\n[[  4]\n [  7]\n [ 10]\n [118]]\n[[0.01939327]\n [1.98906544]\n [1.0007913 ]]\n[[  4.0100413 ]\n [  6.99989803]\n [  9.98975477]\n [118.00011196]]\nleanear\n[[3.00925   ]\n [5.99910674]\n [8.98896347]]\n"
    }
   ],
   "source": [
    "import numpy as np\n",
    "\n",
    "#settings for the model\n",
    "isPoly=False\n",
    "isLeanear=True\n",
    "PolyDegree=2\n",
    "usingRegularizer=True\n",
    "Lambda=0.01\n",
    "W=None # current weight\n",
    "def my_regression(trainX,testX,noutputs):\n",
    "    ## coding here\n",
    "    phi=None\n",
    "    if isLeanear:\n",
    "        phi=trainX[:,0:trainX.shape[1]-noutputs]\n",
    "        ones=np.ones((trainX.shape[0],1))\n",
    "        phi=np.append(ones,phi,axis=1)\n",
    "        print(phi)\n",
    "        T=trainX[:,trainX.shape[1]-noutputs:]\n",
    "        if usingRegularizer==True:\n",
    "            W=np.dot(np.dot(np.linalg.pinv( Lambda * np.eye(phi.shape[1]) + np.dot(phi.T,phi)),phi.T),T)\n",
    "        else:\n",
    "            W=np.dot(np.dot(np.linalg.pinv(np.dot(phi.T,phi)),phi.T),T)\n",
    "        print(T)\n",
    "        print(W)\n",
    "        outputs=np.dot(phi,W)\n",
    "        print(outputs)\n",
    "        print(\"leanear\")\n",
    "        return np.dot(np.append(np.ones((testX.shape[0],1)),testX,axis=1),W)\n",
    "    elif isPoly:\n",
    "        print(\"poly\")\n",
    "    \n",
    "\n",
    "    \n",
    "\n",
    "    pass\n",
    "\n",
    "\n",
    "##main:\n",
    "\n",
    "if __name__==\"__main__\":\n",
    "    trainX=np.array([[1,2,4],[2,3,7],[3,4,10],[9,100,118]])\n",
    "    testX=np.array([[1,1],[2,2],[3,3]])\n",
    "    noutputs=1\n",
    "    testOut=my_regression(trainX,testX,noutputs)\n",
    "    print(testOut)\n",
    "\n",
    "    pass\n"
   ]
  },
  {
   "cell_type": "code",
   "execution_count": null,
   "metadata": {},
   "outputs": [],
   "source": []
  }
 ]
}